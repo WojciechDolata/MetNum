{
 "metadata": {
  "name": "",
  "signature": "sha256:9432227fca30d5ef145f5976d97a8dd578a4a14199dd264e8b720db7768ef371"
 },
 "nbformat": 3,
 "nbformat_minor": 0,
 "worksheets": [
  {
   "cells": [
    {
     "cell_type": "code",
     "collapsed": false,
     "input": [
      "import numpy\n",
      "import math\n",
      "import time\n",
      "import matplotlib.pyplot as plt\n",
      "import scipy.optimize as scp\n",
      "\n",
      "def f(x):\n",
      "    return math.exp(-2*x) + math.pow(x,2) - 1\n",
      "\n",
      "def f1(x):\n",
      "    return -2*math.exp(-2*x) + 2*x\n",
      "\n",
      "def f2(x):\n",
      "    return 4*math.exp(-2*x) + 2\n",
      "\n",
      "\n"
     ],
     "language": "python",
     "metadata": {},
     "outputs": [],
     "prompt_number": 76
    },
    {
     "cell_type": "code",
     "collapsed": false,
     "input": [
      "x = numpy.linspace(-20,-15)\n",
      "y = []\n",
      "for i in x:\n",
      "    y.append(f(i))\n",
      "y2 = []\n",
      "for i in x:\n",
      "    y2.append(f1(i))\n",
      "y3 = []\n",
      "for i in x:\n",
      "    y3.append(f2(i))\n",
      "plt.plot(x,y)\n",
      "plt.plot(x,y2)\n",
      "plt.plot(x,y3)\n",
      "plt.show()"
     ],
     "language": "python",
     "metadata": {},
     "outputs": [],
     "prompt_number": 56
    },
    {
     "cell_type": "code",
     "collapsed": false,
     "input": [
      "def bisec(func,beg,end,d,maxite):\n",
      "    if(f(beg)*f(end)>0):\n",
      "        print(\"zle przedzialy\")\n",
      "        return 0\n",
      "    while (math.fabs(end-beg)>=d and maxite>0):\n",
      "        mid = beg+(end-beg)/2\n",
      "        #print(func(mid))\n",
      "        if(func(beg)*func(mid)<0):\n",
      "            end = mid\n",
      "        else:\n",
      "            beg = mid\n",
      "        maxite = maxite -1\n",
      "    return beg\n",
      "curt = time.clock()\n",
      "print(bisec(f,-1.0,0.4,10**-10, 10000))\n",
      "curt2 = time.clock()\n",
      "\n",
      "print(scp.bisect(f,-1.0,0.4,xtol=10**-10,maxiter=10000))\n",
      "curt3 = time.clock()\n",
      "\n",
      "print(str(curt2-curt)+ \"  <--- moj czas\")\n",
      "print(str(curt3-curt2)+ \"  <--- ich czas\")"
     ],
     "language": "python",
     "metadata": {},
     "outputs": [
      {
       "output_type": "stream",
       "stream": "stdout",
       "text": [
        "-3.49246124084e-11\n",
        "-3.49246599894e-11\n",
        "0.000265681592047  <--- moj czas\n",
        "0.000197648336689  <--- ich czas\n"
       ]
      }
     ],
     "prompt_number": 78
    },
    {
     "cell_type": "code",
     "collapsed": false,
     "input": [],
     "language": "python",
     "metadata": {},
     "outputs": []
    }
   ],
   "metadata": {}
  }
 ]
}