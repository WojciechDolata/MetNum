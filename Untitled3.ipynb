{
 "metadata": {
  "name": "",
  "signature": "sha256:8884786d8eb60f53eeb8bedf001f214dc343960ec7c08b0c0ca78a7485253f20"
 },
 "nbformat": 3,
 "nbformat_minor": 0,
 "worksheets": [
  {
   "cells": [
    {
     "cell_type": "code",
     "collapsed": false,
     "input": [
      "import math\n",
      "\n",
      "print(\"1. Pi\")\n",
      "p1 = math.pi\n",
      "p2 = 22.0/7.0\n",
      "print(\"blad bezwzgledny: \" + str(abs(p1-p2)))\n",
      "print(\"blad wzgledny: \" + str(abs(1-p1/p2)))\n",
      "\n",
      "print(\"2. e\")\n",
      "p1 = math.e\n",
      "p2 = 2.718\n",
      "print(\"blad bezwzgledny: \" + str(abs(p1-p2)))\n",
      "print(\"blad wzgledny: \" + str(abs(1-p1/p2)))\n",
      "\n",
      "print(\"3. 10^x\")\n",
      "p1 = math.pow(10,math.pi)\n",
      "p2 = 1397\n",
      "print(\"blad bezwzgledny: \" + str(abs(p1-p2)))\n",
      "print(\"blad wzgledny: \" + str(abs(1-p1/p2)))\n",
      "\n",
      "print(\"4. 9!\")\n",
      "p1 = math.factorial(9)\n",
      "p2 = math.sqrt(18*math.pi)*math.pow((9.0/math.e),9)\n",
      "print(\"blad bezwzgledny: \" + str(abs(p1-p2)))\n",
      "print(\"blad wzgledny: \" + str(abs(1-p1/p2)))\n"
     ],
     "language": "python",
     "metadata": {},
     "outputs": [
      {
       "output_type": "stream",
       "stream": "stdout",
       "text": [
        "1. Pi\n",
        "blad bezwzgledny: 0.00126448926735\n",
        "blad wzgledny: 0.000402337494157\n",
        "2. e\n",
        "blad bezwzgledny: 0.000281828459045\n",
        "blad wzgledny: 0.000103689646448\n",
        "3. 10^x\n",
        "blad bezwzgledny: 11.544268633\n",
        "blad wzgledny: 0.00826361391051\n",
        "4. 9!\n",
        "blad bezwzgledny: 3343.12715805\n",
        "blad wzgledny: 0.00929842642182\n"
       ]
      }
     ],
     "prompt_number": 51
    },
    {
     "cell_type": "code",
     "collapsed": false,
     "input": [
      "def G(p):\n",
      "    return ((math.pow(10,p)*(1.0+round(math.pi,15)*p*math.pow(10,-p))-math.pow(10,p))/p)\n",
      "\n",
      "def Gn(n):\n",
      "    for i in range (1,n+1):\n",
      "        print (\"%.15f\" % G(i))\n",
      "print(\"prawdziwe pi: \" + str(\"%.15f\" % math.pi))\n",
      "Gn(4)"
     ],
     "language": "python",
     "metadata": {},
     "outputs": [
      {
       "output_type": "stream",
       "stream": "stdout",
       "text": [
        "prawdziwe pi: 3.141592653589793\n",
        "3.141592653589793\n",
        "3.141592653589797\n",
        "3.141592653589820\n",
        "3.141592653590124\n"
       ]
      }
     ],
     "prompt_number": 65
    },
    {
     "cell_type": "code",
     "collapsed": false,
     "input": [
      "def esumAl(n):\n",
      "    wynik=0\n",
      "    for i in range (0,n+1):\n",
      "        wynik+=1.0/math.factorial(n-i)    \n",
      "    print (\"%.30f\" % wynik)\n",
      "\n",
      "def esum(n):\n",
      "    wynik=0\n",
      "    for i in range (0,n+1):\n",
      "        wynik+=1.0/math.factorial(i)    \n",
      "    print (\"%.30f\" % wynik)\n",
      "\n",
      "print(\"prawdziwe e: \" + str(\"%.30f\" % math.e))\n",
      "esum(5)\n",
      "esum(30)\n",
      "esumAl(30)\n"
     ],
     "language": "python",
     "metadata": {},
     "outputs": [
      {
       "output_type": "stream",
       "stream": "stdout",
       "text": [
        "prawdziwe e: 2.718281828459045090795598298428\n",
        "2.716666666666666341001246109954\n",
        "2.718281828459045534884808148490\n",
        "2.718281828459045090795598298428\n"
       ]
      }
     ],
     "prompt_number": 74
    },
    {
     "cell_type": "code",
     "collapsed": false,
     "input": [
      "def lowestB():\n",
      "    a=1.0\n",
      "    b=1.0\n",
      "    blad=1.0\n",
      "    while(blad!=0.0):\n",
      "        blad=a+b-a-b\n",
      "        b-=0.000000001\n",
      "    print (\"%.30f\" %b)\n",
      "    print (\"%.30f\" %blad)\n",
      "        \n",
      "lowestB()"
     ],
     "language": "python",
     "metadata": {},
     "outputs": [
      {
       "output_type": "stream",
       "stream": "stdout",
       "text": [
        "0.999999999000000028281931463425\n",
        "0.000000000000000000000000000000\n"
       ]
      }
     ],
     "prompt_number": 81
    },
    {
     "cell_type": "code",
     "collapsed": false,
     "input": [
      "def sumnsq(n):\n",
      "    wynik=0\n",
      "    for i in range (1,n+1):\n",
      "        wynik+=1.0/(i*i)\n",
      "    return wynik\n",
      "\n",
      "print(\"%.20f\" % (math.sqrt(6*sumnsq(1000000))))"
     ],
     "language": "python",
     "metadata": {},
     "outputs": [
      {
       "output_type": "stream",
       "stream": "stdout",
       "text": [
        "3.14159169866050858033\n"
       ]
      }
     ],
     "prompt_number": 98
    },
    {
     "cell_type": "code",
     "collapsed": false,
     "input": [],
     "language": "python",
     "metadata": {},
     "outputs": []
    }
   ],
   "metadata": {}
  }
 ]
}