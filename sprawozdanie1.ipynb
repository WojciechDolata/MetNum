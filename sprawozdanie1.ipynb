{
 "cells": [
  {
   "cell_type": "markdown",
   "metadata": {},
   "source": [
    "# Sprawozdanie"
   ]
  },
  {
   "cell_type": "markdown",
   "metadata": {},
   "source": [
    "Wojciech Dolata, nr indeksu: 297195"
   ]
  },
  {
   "cell_type": "markdown",
   "metadata": {},
   "source": [
    "## Potrzebne importy i aliasy"
   ]
  },
  {
   "cell_type": "code",
   "execution_count": null,
   "metadata": {
    "scrolled": true
   },
   "outputs": [],
   "source": [
    "import math\n",
    "import numpy\n",
    "import matplotlib.pyplot as plt"
   ]
  },
  {
   "cell_type": "markdown",
   "metadata": {},
   "source": [
    "## Zadanie 1."
   ]
  },
  {
   "cell_type": "code",
   "execution_count": null,
   "metadata": {},
   "outputs": [],
   "source": [
    "k = 1240 - math.sqrt(7)\n",
    "m = 4467\n",
    "l = 2j\n",
    "d = k + m\n",
    "c = d + l\n",
    "c"
   ]
  },
  {
   "cell_type": "markdown",
   "metadata": {},
   "source": [
    "Funkcja math.sqrt(x) podaje pierwiastek kwadratowy z x;\n",
    "l=2j przyporządkowuje zmiennej l wartość 2i (2sqrt(-1)), w pythonie stosuje się notację j zamiast i przy liczbach zespolonych."
   ]
  },
  {
   "cell_type": "markdown",
   "metadata": {},
   "source": [
    "## Zadanie 2."
   ]
  },
  {
   "cell_type": "code",
   "execution_count": null,
   "metadata": {},
   "outputs": [],
   "source": [
    "print(d)\n",
    "print(\"%.3f\" % d)\n",
    "print(\"%.20f\" % d)"
   ]
  },
  {
   "cell_type": "markdown",
   "metadata": {},
   "source": [
    "## Zadanie 3"
   ]
  },
  {
   "cell_type": "code",
   "execution_count": null,
   "metadata": {},
   "outputs": [],
   "source": [
    "r = 17\n",
    "h = 33\n",
    "objetosc_walca = math.pi*math.pow(r,2)*h \n",
    "objetosc_walca"
   ]
  },
  {
   "cell_type": "markdown",
   "metadata": {},
   "source": [
    "Funkcja math.pow(x,y) podnosi x do y. potęgi."
   ]
  },
  {
   "cell_type": "markdown",
   "metadata": {},
   "source": [
    "## Zadanie 4"
   ]
  },
  {
   "cell_type": "code",
   "execution_count": null,
   "metadata": {},
   "outputs": [],
   "source": [
    "\"\"\"komentarz wielolinijkowy\"\"\"\n",
    "#komentarz jednolinijkowy"
   ]
  },
  {
   "cell_type": "markdown",
   "metadata": {},
   "source": [
    "## Zadanie 5"
   ]
  },
  {
   "cell_type": "code",
   "execution_count": null,
   "metadata": {},
   "outputs": [],
   "source": [
    "x=1.0\n",
    "t=1.0\n",
    "r=1.0\n",
    "B=(x+r)/(3.3456+r*math.sin(2*x))*math.pow(x,t*r)\n",
    "print(B)"
   ]
  },
  {
   "cell_type": "markdown",
   "metadata": {},
   "source": [
    "Funkcja a=input('napis') wyswietla napis i przyporządkowuje zmiennej a wartość wpisaną z konsoli, jako typ string.\n",
    "\n",
    "Funkcja a=float(a) zamienia typ zmiennej a na float.\n",
    "\n",
    "Funkcja math.sin(x) zwraca sin(x)."
   ]
  },
  {
   "cell_type": "markdown",
   "metadata": {},
   "source": [
    "## Zadanie 6"
   ]
  },
  {
   "cell_type": "code",
   "execution_count": null,
   "metadata": {
    "scrolled": true
   },
   "outputs": [],
   "source": [
    "a=math.sqrt(2)\n",
    "M=numpy.array([[a,1,-a],[0,1,1],[-a,a,1]])\n",
    "Minv = numpy.linalg.inv(M)\n",
    "Mdet = numpy.linalg.det(M)\n",
    "Mt = numpy.transpose(M)\n",
    "print(Minv)\n",
    "print(Mdet)\n",
    "print(Mt)"
   ]
  },
  {
   "cell_type": "markdown",
   "metadata": {},
   "source": [
    "M = numpy.array(tablica) działa jak przyporządkowywanie tablicy w c++, lecz posiada możliwości działań na macierzach."
   ]
  },
  {
   "cell_type": "markdown",
   "metadata": {},
   "source": [
    "## Zadanie 7"
   ]
  },
  {
   "cell_type": "code",
   "execution_count": null,
   "metadata": {},
   "outputs": [],
   "source": [
    "print(M[0][0])\n",
    "print(M[2][2])\n",
    "print(M[2][1])\n",
    "w1 = M[:,2]\n",
    "w2 = M[1,:]\n",
    "print (w1)\n",
    "print (w2)"
   ]
  },
  {
   "cell_type": "markdown",
   "metadata": {},
   "source": [
    "M[x][y] = a to przypisanie wartości a elementowi o współrzędnych x,y.\n",
    "\n",
    "w = M[:,2] to przypisanie :, czyli wszystkich elementów z 3. kolumny (w pythonie indeksujemy od 0) macierzy M."
   ]
  },
  {
   "cell_type": "markdown",
   "metadata": {},
   "source": [
    "## Zadanie 8"
   ]
  },
  {
   "cell_type": "code",
   "execution_count": null,
   "metadata": {},
   "outputs": [],
   "source": [
    "p = [1,-7,3,43,-28,-60]\n",
    "for r in numpy.roots(p):\n",
    "    print(p[5]+r*p[4]+r*r*p[3]+math.pow(r,3)*p[2]+math.pow(r,4)*p[1]+math.pow(r,5)*p[0])\n",
    "print (numpy.roots(p))"
   ]
  },
  {
   "cell_type": "markdown",
   "metadata": {},
   "source": [
    "Funkcja numpy.roots(p) wylicza pierwiastki równania wielomianowego zadanego funkcją y = p[0]*x^n + p[1]*x^(n-1) + ... + p[n]*x^0, gdzie p jest tablicą jednowymiarową typów liczbowych."
   ]
  },
  {
   "cell_type": "markdown",
   "metadata": {},
   "source": [
    "## Zadanie 9"
   ]
  },
  {
   "cell_type": "code",
   "execution_count": null,
   "metadata": {},
   "outputs": [],
   "source": [
    "print (numpy.arange(-3,3,1.0/3))\n",
    "print (numpy.linspace(0,15,51))"
   ]
  },
  {
   "cell_type": "markdown",
   "metadata": {},
   "source": [
    "Funkcja numpy.arrange(a,b,x) powoduje niedokładność, np zamiast 0 w powyższym ciągu pokazuje wartość zbliżoną do zera, lecz równą 0.0000000000000013322..."
   ]
  },
  {
   "cell_type": "markdown",
   "metadata": {},
   "source": [
    "## Zadanie 10"
   ]
  },
  {
   "cell_type": "code",
   "execution_count": null,
   "metadata": {},
   "outputs": [],
   "source": [
    "def f(x):\n",
    "    return math.pow(x,3)-3*x\n",
    "\n",
    "def plotmaker(start,stop):\n",
    "    x = numpy.linspace(start,stop)\n",
    "    y = []\n",
    "    for i in x:\n",
    "        y.append(f(i))\n",
    "\n",
    "    plt.plot(x,y)\n",
    "    plt.title('wykres f(x)')\n",
    "    plt.xlabel('x')\n",
    "    plt.ylabel('y')\n",
    "    plt.legend('wykres funkcji')\n",
    "    plt.show()\n",
    "\n",
    "plotmaker(-1,1)\n",
    "plotmaker(-5,5)\n",
    "plotmaker(0,5)"
   ]
  },
  {
   "cell_type": "markdown",
   "metadata": {},
   "source": [
    "Za pomocą funkcji plot z pakietu matplotlib możemy generować wykresy zadanych przez nas funkcji z dowolnego przedziału w którym ta funkcja istnieje, oraz edytować wygląd wykresu (nagłówek, nazwa, itd.)."
   ]
  },
  {
   "cell_type": "markdown",
   "metadata": {},
   "source": [
    "## Zadanie 11"
   ]
  },
  {
   "cell_type": "code",
   "execution_count": null,
   "metadata": {},
   "outputs": [],
   "source": [
    "def Q(m,v):\n",
    "    return m*v*v/2\n",
    "\n",
    "def kcal(J):\n",
    "    return J/4184\n",
    "\n",
    "print (Q(2.5,50))\n",
    "\n",
    "m = 3\n",
    "v=numpy.linspace(200,0)\n",
    "plt.gca().invert_xaxis()\n",
    "plt.plot(v,[Q(m,i) for i in v])\n",
    "plt.show()"
   ]
  },
  {
   "cell_type": "markdown",
   "metadata": {},
   "source": [
    "Po zdefiniowaniu funkcji Q, należało za pomocą numpy.linspace utworzyć ciąg liniowy wartości od 0 do 200, oraz odwrócić domyślną kolejność osi x za pomocą matplotlib.gca().invert_xaxis(), po czym narysować wykres funkcji za pomocą funkcji matplotlib.plot()."
   ]
  }
 ],
 "metadata": {
  "kernelspec": {
   "display_name": "Python 3",
   "language": "python",
   "name": "python3"
  },
  "language_info": {
   "codemirror_mode": {
    "name": "ipython",
    "version": 3
   },
   "file_extension": ".py",
   "mimetype": "text/x-python",
   "name": "python",
   "nbconvert_exporter": "python",
   "pygments_lexer": "ipython3",
   "version": "3.5.2"
  }
 },
 "nbformat": 4,
 "nbformat_minor": 2
}
