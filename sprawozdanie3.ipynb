{
 "cells": [
  {
   "cell_type": "markdown",
   "metadata": {},
   "source": [
    "#  Sprawozdanie"
   ]
  },
  {
   "cell_type": "markdown",
   "metadata": {},
   "source": [
    "Wojciech Dolata, nr indeksu: 297195"
   ]
  },
  {
   "cell_type": "markdown",
   "metadata": {},
   "source": [
    "## Potrzebne importy, aliasy i funkcje"
   ]
  },
  {
   "cell_type": "code",
   "execution_count": 24,
   "metadata": {},
   "outputs": [],
   "source": [
    "import numpy\n",
    "import math\n",
    "import time\n",
    "import matplotlib.pyplot as plt\n",
    "import scipy.optimize as scp\n",
    "\n",
    "def f(x):\n",
    "    return math.exp(-2*x) + math.pow(x,2) - 1\n",
    "\n",
    "def f1(x):\n",
    "    return -2*math.exp(-2*x) + 2*x\n",
    "\n",
    "def f2(x):\n",
    "    return 4*math.exp(-2*x) + 2"
   ]
  },
  {
   "cell_type": "markdown",
   "metadata": {},
   "source": [
    "## Zadanie 1"
   ]
  },
  {
   "cell_type": "markdown",
   "metadata": {},
   "source": [
    "Wykresy funkcji"
   ]
  },
  {
   "cell_type": "code",
   "execution_count": 34,
   "metadata": {},
   "outputs": [
    {
     "data": {
      "image/png": "[encoded data removed]",
      "text/plain": [
       "<Figure size 432x288 with 1 Axes>"
      ]
     },
     "metadata": {},
     "output_type": "display_data"
    }
   ],
   "source": [
    "x = numpy.linspace(-1,1)\n",
    "y = []\n",
    "for i in x:\n",
    "    y.append(f(i))\n",
    "y2 = []\n",
    "for i in x:\n",
    "    y2.append(f1(i))\n",
    "y3 = []\n",
    "for i in x:\n",
    "    y3.append(f2(i))\n",
    "plt.plot(x,y,label='f(x)')\n",
    "plt.plot(x,y2,label=\"f'(x)\")\n",
    "plt.plot(x,y3,label=\"f''(x)\")\n",
    "plt.legend(bbox_to_anchor=(1.05, 1), loc=2, borderaxespad=0.)\n",
    "plt.xlabel('x')\n",
    "plt.ylabel('wartość funkcji')\n",
    "plt.show()"
   ]
  },
  {
   "cell_type": "markdown",
   "metadata": {},
   "source": [
    "Miejsce zerowe f(x) w okolicach zera."
   ]
  },
  {
   "cell_type": "markdown",
   "metadata": {},
   "source": [
    "## Zadanie 2"
   ]
  },
  {
   "cell_type": "markdown",
   "metadata": {},
   "source": [
    "Metoda Bisekcji"
   ]
  },
  {
   "cell_type": "code",
   "execution_count": 22,
   "metadata": {},
   "outputs": [
    {
     "name": "stdout",
     "output_type": "stream",
     "text": [
      "-3.492461240840937e-11\n",
      "-3.4924659989396135e-11\n",
      "0.0001334393591605476  <--- moj czas\n",
      "0.00013887933346268255  <--- ich czas\n"
     ]
    }
   ],
   "source": [
    "def bisec(func,beg,end,d,maxite):\n",
    "    begite=maxite\n",
    "    if(f(beg)*f(end)>0):\n",
    "        print(\"zle przedzialy\")\n",
    "        return 0\n",
    "    while (math.fabs(end-beg)>=d and maxite>0):\n",
    "        mid = beg+(end-beg)/2\n",
    "        #print(func(mid))\n",
    "        if(func(beg)*func(mid)<0):\n",
    "            end = mid\n",
    "        else:\n",
    "            beg = mid\n",
    "        maxite = maxite -1\n",
    "    return (beg,begite-maxite)\n",
    "\n",
    "curt = time.clock()\n",
    "(wynik,itenumBisec)=bisec(f,-1.0,0.4,10**-10, 10000)\n",
    "curt2 = time.clock()\n",
    "wynikscp = scp.bisect(f,-1.0,0.4,xtol=10**-10,maxiter=10000)\n",
    "curt3 = time.clock()\n",
    "\n",
    "print(wynik)\n",
    "print(wynikscp)\n",
    "timeBisec = str(curt2-curt)\n",
    "\n",
    "print(str(curt2-curt)+ \"  <--- moj czas\")\n",
    "print(str(curt3-curt2)+ \"  <--- ich czas\")"
   ]
  },
  {
   "cell_type": "markdown",
   "metadata": {},
   "source": [
    "## Zadanie 3"
   ]
  },
  {
   "cell_type": "markdown",
   "metadata": {},
   "source": [
    "Metoda Newtona(stycznych)"
   ]
  },
  {
   "cell_type": "code",
   "execution_count": 17,
   "metadata": {},
   "outputs": [
    {
     "name": "stdout",
     "output_type": "stream",
     "text": [
      "-5.753992934998626e-18\n",
      "-4.115383249855085e-18\n",
      "0.00015615925053680257  <--- moj czas\n",
      "9.823952836995886e-05  <--- ich czas\n"
     ]
    }
   ],
   "source": [
    "def newton(func, beg, end, d, maxite):\n",
    "    x=0\n",
    "    xt=beg\n",
    "    begite=maxite\n",
    "    if(f(beg)*f2(beg)>0):\n",
    "        xt=beg\n",
    "    while(math.fabs(f(x)-f(xt))>=d and maxite>0):\n",
    "        x=xt\n",
    "        xt=x-f(x)/f1(x)\n",
    "        maxite -= 1\n",
    "    return (xt,begite-maxite)\n",
    "\n",
    "curt = time.clock()\n",
    "(wynik,itenumNewton)=newton(f,-1.0,0.4,10**-10, 10000)\n",
    "curt2 = time.clock()\n",
    "wynikscp = scp.newton(f,-1.0,tol=10**-10,maxiter=10000)\n",
    "curt3 = time.clock()\n",
    "\n",
    "print(wynik)\n",
    "print(wynikscp)\n",
    "\n",
    "timeNewton = str(curt2-curt)\n",
    "\n",
    "print(str(curt2-curt)+ \"  <--- moj czas\")\n",
    "print(str(curt3-curt2)+ \"  <--- ich czas\")"
   ]
  },
  {
   "cell_type": "markdown",
   "metadata": {},
   "source": [
    "## Zadanie 4"
   ]
  },
  {
   "cell_type": "markdown",
   "metadata": {},
   "source": [
    "Metoda Eulera(siecznych)"
   ]
  },
  {
   "cell_type": "code",
   "execution_count": 18,
   "metadata": {},
   "outputs": [
    {
     "name": "stdout",
     "output_type": "stream",
     "text": [
      "-1.1936864184518318e-17\n",
      "-4.115383249855085e-18\n",
      "0.00011135946533613605  <--- moj czas\n",
      "0.00014847928741801297  <--- ich czas\n"
     ]
    }
   ],
   "source": [
    "def euler(func,beg,end,d,maxite):\n",
    "    x0=end\n",
    "    x1=beg\n",
    "    x2=end\n",
    "    begite=maxite\n",
    "    while(math.fabs(x2-x1)>=d and maxite>0):\n",
    "        x0=x1\n",
    "        x1=x2\n",
    "        x2=x1-(f(x1)*(x1-x0))/(f(x1)-f(x0))\n",
    "        maxite-=1\n",
    "    return (x2,begite-maxite)\n",
    "\n",
    "curt = time.clock()\n",
    "(wynik,itenumEuler)=euler(f,-1.0,0.4,10**-10, 10000)\n",
    "curt2 = time.clock()\n",
    "wynikscp = scp.newton(f,-1.0,tol=10**-10,maxiter=10000)\n",
    "curt3 = time.clock()\n",
    "\n",
    "print(wynik)\n",
    "print(wynikscp)\n",
    "\n",
    "timeEuler = str(curt2-curt)\n",
    "\n",
    "print(str(curt2-curt)+ \"  <--- moj czas\")\n",
    "print(str(curt3-curt2)+ \"  <--- ich czas\")"
   ]
  },
  {
   "cell_type": "markdown",
   "metadata": {},
   "source": [
    "Porównanie ilości iteracji i czasów wykonania."
   ]
  },
  {
   "cell_type": "code",
   "execution_count": 23,
   "metadata": {},
   "outputs": [
    {
     "name": "stdout",
     "output_type": "stream",
     "text": [
      "Bisekcja:\n",
      "Iteracje: 34\n",
      "Czas: 0.0001334393591605476\n",
      "Styczne:\n",
      "Iteracje: 8\n",
      "Czas: 0.00015615925053680257\n",
      "Sieczne:\n",
      "Iteracje: 13\n",
      "Czas: 0.00011135946533613605\n"
     ]
    }
   ],
   "source": [
    "print(\"Bisekcja:\")\n",
    "print(\"Iteracje: \" + str(itenumBisec))\n",
    "print(\"Czas: \" + str(timeBisec))\n",
    "print(\"Styczne:\")\n",
    "print(\"Iteracje: \" + str(itenumNewton))\n",
    "print(\"Czas: \" + str(timeNewton))\n",
    "print(\"Sieczne:\")\n",
    "print(\"Iteracje: \" + str(itenumEuler))\n",
    "print(\"Czas: \" + str(timeEuler))"
   ]
  }
 ],
 "metadata": {
  "kernelspec": {
   "display_name": "Python 3",
   "language": "python",
   "name": "python3"
  },
  "language_info": {
   "codemirror_mode": {
    "name": "ipython",
    "version": 3
   },
   "file_extension": ".py",
   "mimetype": "text/x-python",
   "name": "python",
   "nbconvert_exporter": "python",
   "pygments_lexer": "ipython3",
   "version": "3.6.3"
  }
 },
 "nbformat": 4,
 "nbformat_minor": 1
}
